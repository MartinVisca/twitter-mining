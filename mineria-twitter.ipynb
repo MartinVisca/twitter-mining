{
 "cells": [
  {
   "cell_type": "markdown",
   "metadata": {},
   "source": [
    "## Conexión con la API"
   ]
  },
  {
   "cell_type": "markdown",
   "metadata": {},
   "source": [
    "Previo al desarrollo de la aplicación, se debe pedir una autorización a la API de Twitter para poder acceder a los datos que se quieren analizar. Para ésto se debe crear una app desde la sección Developers de Twitter, donde se consiguen los tokens necesarios para la autorización de acceso, los cuales se agregan al archivo \"twitter.ini\", usado en el código a continuación."
   ]
  },
  {
   "cell_type": "code",
   "execution_count": 1,
   "metadata": {},
   "outputs": [
    {
     "name": "stdout",
     "output_type": "stream",
     "text": [
      "Se puede otorgar acceso a esta aplicación con el siguiente link: \n",
      "https://api.twitter.com/oauth/authorize?oauth_token=CQ4jnQAAAAAA_VLpAAABbJD23Qs \n",
      "\n",
      "\n"
     ]
    }
   ],
   "source": [
    "import configparser  \n",
    "import sys\n",
    "from tweepy import API\n",
    "from tweepy import OAuthHandler\n",
    "\n",
    "def get_twitter_auth():\n",
    "    config = configparser.ConfigParser()\n",
    "    config.read(\"twitter.ini\")\n",
    "    \n",
    "    try:\n",
    "        consumer_key = config.get(\"TwitterKeys\", \"ConsumerKey\")\n",
    "        consumer_secret = config.get(\"TwitterKeys\", \"ConsumerSecret\")\n",
    "        access_token = config.get(\"TwitterKeys\", \"AccessToken\")\n",
    "        access_secret = config.get(\"TwitterKeys\", \"AccessTokenSecret\")\n",
    "    except:\n",
    "        print(\"exception on %s!\" % option)\n",
    "        \n",
    "    auth = OAuthHandler(consumer_key, consumer_secret)\n",
    "    auth.set_access_token(access_token, access_secret)\n",
    "    return auth\n",
    "\n",
    "def get_twitter_client():\n",
    "    auth = get_twitter_auth()\n",
    "    client = API(auth, wait_on_rate_limit = True)\n",
    "    return client\n",
    "\n",
    "auth = get_twitter_auth()\n",
    "client = API(auth)\n",
    "print(\"Se puede otorgar acceso a esta aplicación con el siguiente link: \")\n",
    "print(auth.get_authorization_url(), \"\\n\\n\")"
   ]
  },
  {
   "cell_type": "markdown",
   "metadata": {},
   "source": [
    "## Obtención de datos del usuario"
   ]
  },
  {
   "cell_type": "markdown",
   "metadata": {},
   "source": [
    "Importo todas las librerías necesarias para la obtención de datos y creo la carpeta \"users\", donde se almacenarán los usuarios analizados."
   ]
  },
  {
   "cell_type": "code",
   "execution_count": 9,
   "metadata": {},
   "outputs": [],
   "source": [
    "import os\n",
    "import json\n",
    "import time\n",
    "import math\n",
    "from tweepy import Cursor\n",
    "\n",
    "MAX_FRIENDS = 1500\n",
    "\n",
    "user_name = \"delpotrojuan\"\n",
    "client = get_twitter_client()\n",
    "dir_name = \"users/{}\".format(user_name)\n",
    "\n",
    "max_pages = math.ceil(MAX_FRIENDS / 5000)\n",
    "\n",
    "try:\n",
    "    os.makedirs(dir_name, mode = 0o755, exist_ok = True)\n",
    "except OSError:\n",
    "    print(\"El directorio {} ya existe\".format(dir_name))\n",
    "except Exception as e:\n",
    "    print(\"Error al crear el directorio {}\".format(dir_name))\n",
    "    print(e)\n",
    "    sys.exit(1)\n",
    "    \n",
    "def paginate(items, n):\n",
    "    for i in range(0, len(items), n):\n",
    "        yield items[i:i+n]"
   ]
  },
  {
   "cell_type": "markdown",
   "metadata": {},
   "source": [
    "#### Obtención de amigos"
   ]
  },
  {
   "cell_type": "markdown",
   "metadata": {},
   "source": [
    "El código siguiente es el necesario para obtener los \"friends\" del usuario. De la misma manera se obtienen los seguidores, cambiando sólo el \"folder_name\" (friends por followers). Ésto último no se plasmó en este notebook por no ser necesario para el desarrollo del trabajo y por el hecho de tener básicamente el mismo código."
   ]
  },
  {
   "cell_type": "code",
   "execution_count": 3,
   "metadata": {},
   "outputs": [
    {
     "name": "stdout",
     "output_type": "stream",
     "text": [
      "Descargando 100 friends de un total de  23\n",
      "Descarga finalizada\n"
     ]
    }
   ],
   "source": [
    "folder_name = \"users/{}/friends.jsonl\".format(user_name)\n",
    "\n",
    "with open(folder_name, 'w') as f:\n",
    "    for friends in Cursor(client.friends_ids, screen_name = user_name).pages(max_pages):\n",
    "        \n",
    "        for chunk in paginate(friends, 100):\n",
    "            \n",
    "            print(\"Descargando 100 friends de un total de \", len(friends))\n",
    "            users = client.lookup_users(user_ids = chunk)\n",
    "            \n",
    "            for user in users:\n",
    "                f.write(json.dumps(user._json)+\"\\n\")\n",
    "            \n",
    "            if len(friends) == 5000:\n",
    "                print(\"Espera de 60 segundos por el rate limit\")\n",
    "                time.sleep(60)\n",
    "                \n",
    "    print(\"Descarga finalizada\")"
   ]
  },
  {
   "cell_type": "markdown",
   "metadata": {},
   "source": [
    "## Perfil de publicaciones del usuario"
   ]
  },
  {
   "cell_type": "markdown",
   "metadata": {},
   "source": [
    "#### User timeline del usuario"
   ]
  },
  {
   "cell_type": "markdown",
   "metadata": {},
   "source": [
    "Como paso inicial, descargo una lista de los primeros tweets del timeline del usuario. En este caso seran 16 páginas de 200 tweets cada una."
   ]
  },
  {
   "cell_type": "code",
   "execution_count": 4,
   "metadata": {},
   "outputs": [
    {
     "name": "stdout",
     "output_type": "stream",
     "text": [
      "Descargando página 1 con 200 tweets\n",
      "Descargando página 2 con 200 tweets\n",
      "Descargando página 3 con 200 tweets\n",
      "Descargando página 4 con 200 tweets\n",
      "Descargando página 5 con 106 tweets\n",
      "Descarga finalizada\n"
     ]
    }
   ],
   "source": [
    "folder_name = \"user_timeline_2019_{}.jsonl\".format(user_name)\n",
    "page_nro = 1\n",
    "\n",
    "with open(folder_name, 'w') as f:\n",
    "    \n",
    "    for page in Cursor(client.user_timeline, screen_name = user_name, count = 200).pages(16):\n",
    "        print(\"Descargando página {} con {} tweets\".format(page_nro, len(page)))    \n",
    "        page_nro += 1\n",
    "        \n",
    "        for status in page:\n",
    "            f.write(json.dumps(status._json) + \"\\n\")\n",
    "    \n",
    "    print ('Descarga finalizada')"
   ]
  },
  {
   "cell_type": "markdown",
   "metadata": {},
   "source": [
    "#### Análisis de los tweets descargados"
   ]
  },
  {
   "cell_type": "markdown",
   "metadata": {},
   "source": [
    "Ahora se analizan los tweets del paso anterior con la librería \"NLTK\", para poder armar un perfil de intereses en base a ellos."
   ]
  },
  {
   "cell_type": "markdown",
   "metadata": {},
   "source": [
    "Primero importo las herramientas de análisis necesarias y defino el método \"process\" para tokenizar los tweets."
   ]
  },
  {
   "cell_type": "code",
   "execution_count": 5,
   "metadata": {},
   "outputs": [],
   "source": [
    "import string\n",
    "from collections import Counter\n",
    "from nltk.tokenize import TweetTokenizer\n",
    "from nltk.corpus import stopwords\n",
    "\n",
    "def process(text, stopwords = []):\n",
    "    tokenizer = TweetTokenizer(strip_handles = True, reduce_len = True)\n",
    "    text = text.lower()\n",
    "    tokens = tokenizer.tokenize(text)\n",
    "    return [tok for tok in tokens if tok not in stopwords and not tok.isdigit()]"
   ]
  },
  {
   "cell_type": "markdown",
   "metadata": {},
   "source": [
    "Obtengo la lista de \"stopwords\". La misma estará compuesta por las propias de los idiomas español e inglés (para darle amplitud al análisis) más las surgidas en las distintas ejecuciones."
   ]
  },
  {
   "cell_type": "code",
   "execution_count": 6,
   "metadata": {},
   "outputs": [],
   "source": [
    "tweet_tokenizer = TweetTokenizer()\n",
    "punct = list(string.punctuation)\n",
    "stopword_list = stopwords.words('spanish') + punct + ['rt', 'via', '...', '…', 'si', '!', '¡', 'jajaja', 'jajajaja', 'jajajajaja', '@', 'mas', 'voy', 'vos', 'sos', 'soy', '🇷', '\"', ' ', '..', '¿', '?', 'ser', 'pessoas', 'seu', 'perfil', '“', 'q', '’', '”'] + stopwords.words('english')"
   ]
  },
  {
   "cell_type": "markdown",
   "metadata": {},
   "source": [
    "Consigo los tokens a partir de los tweets y las stopwords; como dije anteriormente, esta lista se fue modificando en las distintas ejecuciones, al surgir palabras vacías para el análisis. Luego se imprimen las 20 más comunes."
   ]
  },
  {
   "cell_type": "code",
   "execution_count": 7,
   "metadata": {},
   "outputs": [
    {
     "name": "stdout",
     "output_type": "stream",
     "text": [
      "gracias: 146\n",
      "feliz: 56\n",
      "hola: 55\n",
      "saludos: 54\n",
      "gran: 53\n",
      "entrenamiento: 49\n",
      "great: 48\n",
      "amigos: 47\n",
      "día: 47\n",
      "😀: 47\n",
      "dejo: 46\n",
      "️: 45\n",
      "mensajes: 42\n",
      "hoy: 41\n",
      "🎾: 40\n",
      "happy: 38\n",
      "💪: 36\n",
      "apoyo: 36\n",
      "semana: 36\n",
      "video: 36\n"
     ]
    }
   ],
   "source": [
    "folder_name = \"user_timeline_2019_{}.jsonl\".format(user_name)\n",
    "tf = Counter()\n",
    "\n",
    "with open(folder_name, 'r') as f:\n",
    "    \n",
    "    for line in f:\n",
    "        tweet = json.loads(line)\n",
    "        tokens = process(text = tweet.get('text', ''), stopwords = stopword_list)\n",
    "        tf.update(tokens)\n",
    "        \n",
    "    for tag, count in tf.most_common(20):\n",
    "        print(\"{}: {}\".format(tag, count))"
   ]
  },
  {
   "cell_type": "markdown",
   "metadata": {},
   "source": [
    "Estos datos pueden visualizarse de manera gráfica, como se verá en la ejecución siguiente."
   ]
  },
  {
   "cell_type": "code",
   "execution_count": 19,
   "metadata": {},
   "outputs": [
    {
     "data": {
      "image/png": "[encoded data removed]",
      "text/plain": [
       "<Figure size 432x288 with 1 Axes>"
      ]
     },
     "metadata": {
      "needs_background": "light"
     },
     "output_type": "display_data"
    }
   ],
   "source": [
    "%matplotlib inline\n",
    "import matplotlib.pyplot as plt\n",
    "\n",
    "folder_name = \"user_timeline_2019_{}.jsonl\".format(user_name)\n",
    "tf = Counter()\n",
    "with open(folder_name, 'r') as f:\n",
    "    \n",
    "    for line in f:\n",
    "        tweet = json.loads(line)\n",
    "        tokens = process(text = tweet.get('text', ''), stopwords = stopword_list)\n",
    "        tf.update(tokens)\n",
    "        \n",
    "    y = [count for tag, count in tf.most_common(1000)]\n",
    "    x = range(1, len(y) + 1)\n",
    "    plt.bar(x, y)\n",
    "    plt.title(\"Término o token\")\n",
    "    plt.ylabel(\"Cantidad de ocurrencias\")\n",
    "    plt.show()"
   ]
  },
  {
   "cell_type": "markdown",
   "metadata": {},
   "source": [
    "A partir de estos datos conseguidos se pueden analizar palabras clave para lograr encontrar un perfil del usuario. Por ejemplo, si entre las palabras clave se observan \"fútbol\", \"partido\", nombres de clubes, nombres de jugadores, etc., puedo decir que el usuario tiene un perfil orientado al deporte, específicamente al fútbol."
   ]
  },
  {
   "cell_type": "markdown",
   "metadata": {},
   "source": [
    "## Perfil de intereses "
   ]
  },
  {
   "cell_type": "markdown",
   "metadata": {},
   "source": [
    "Una de las formas de definir un perfil de intereses de un usuario es viendo qué cuentas sigue; un usuario que siga muchas cuentas relacionadas con deportes conducirá a la deducción de un interés relacionado a ello."
   ]
  },
  {
   "cell_type": "markdown",
   "metadata": {},
   "source": [
    "Como tengo que analizar todos los perfiles que sigue el usuario (los \"friends\"), lo mas conveniente es convertir el código de obtención de tweets y análisis de los mismos en funciones que facilitarán su uso en cada perfil seguido."
   ]
  },
  {
   "cell_type": "code",
   "execution_count": 5,
   "metadata": {},
   "outputs": [],
   "source": [
    "def get_tweets_usuario(user):\n",
    "    folder_name = \"user_timeline_2019_{}.jsonl\".format(user)\n",
    "\n",
    "    with open(folder_name, 'w') as f:\n",
    "    \n",
    "        for page in Cursor(client.user_timeline, screen_name = user, count = 100).pages(4):  #Un menor numero de tweets y paginas para reducir los tiempos de ejecucion\n",
    "        \n",
    "            for status in page:\n",
    "                f.write(json.dumps(status._json) + \"\\n\")"
   ]
  },
  {
   "cell_type": "code",
   "execution_count": 10,
   "metadata": {},
   "outputs": [],
   "source": [
    "def analizar_usuario(user, tf):\n",
    "    folder_name = \"user_timeline_2019_{}.jsonl\".format(user)\n",
    "\n",
    "    with open(folder_name, 'r') as f:\n",
    "    \n",
    "        for line in f:\n",
    "            tweet = json.loads(line)\n",
    "            tokens = process(text = tweet.get('text', ''), stopwords = stopword_list)\n",
    "            tf.update(tokens)"
   ]
  },
  {
   "cell_type": "markdown",
   "metadata": {},
   "source": [
    "Una vez que tengo las funciones definidas, sólo me queda aplicarlas. En el código a continuación se consiguen los 20 tokens mas comunes presentes en todos los usuarios seguidos.\n",
    "\n",
    "En un recorrido por todos los \"friends\" del usuario, se van obteniendo los tweets de cada uno y analizándolos a la vez. Este análisis se verá reflejado en el resultado final de la variable \"tf\", la cual almacena los tokens y la cantidad de ocurrencias de los mismos."
   ]
  },
  {
   "cell_type": "code",
   "execution_count": 11,
   "metadata": {},
   "outputs": [
    {
     "name": "stdout",
     "output_type": "stream",
     "text": [
      "Descargando\n",
      "Descarga finalizada\n",
      "\n",
      "️: 1031\n",
      "#wimbledon: 459\n",
      "👏: 398\n",
      "🏼: 385\n",
      "💪: 354\n",
      "🎾: 318\n",
      "🏆: 308\n",
      "🏻: 305\n",
      "#rg19: 282\n",
      "‍: 272\n",
      "final: 252\n",
      "🇦: 237\n",
      "first: 236\n",
      "one: 232\n",
      "hoy: 225\n",
      "day: 224\n",
      "🔥: 218\n",
      "❤: 218\n",
      "🙌: 213\n",
      "🙏: 198\n"
     ]
    }
   ],
   "source": [
    "tf = Counter()\n",
    "client = get_twitter_client()\n",
    "folder_name = \"users/{}/friends.jsonl\".format(user_name)\n",
    "\n",
    "with open(folder_name, 'r') as archivo:\n",
    "    print ('Descargando')\n",
    "    \n",
    "    for user_name in archivo:\n",
    "        try:\n",
    "            profile = json.loads(user_name)\n",
    "            user = profile['screen_name']\n",
    "            get_tweets_usuario(user)\n",
    "            analizar_usuario(user, tf)\n",
    "        except:\n",
    "            continue\n",
    "        \n",
    "    print ('Descarga finalizada')\n",
    "    print ('')\n",
    "        \n",
    "for tag, count in tf.most_common(20):\n",
    "    print(\"{}: {}\".format(tag, count))"
   ]
  },
  {
   "cell_type": "markdown",
   "metadata": {},
   "source": [
    "Estos serian los tokens mas comunes obtenidos de las cuentas que sigue el usuario. A partir de ellos se obtiene un \"perfil de intereses\" que describirá la dinámica del usuario en relación a su propio perfil y los seguidos. "
   ]
  },
  {
   "cell_type": "markdown",
   "metadata": {},
   "source": [
    "Esta información también podría ser graficada, al igual que se hizo anteriormente para los tokens de un usuario particular."
   ]
  },
  {
   "cell_type": "markdown",
   "metadata": {},
   "source": [
    "## Clustering"
   ]
  },
  {
   "cell_type": "markdown",
   "metadata": {},
   "source": [
    "Otra forma de determinar los intereses de un usuario es agrupando sus tweets por palabras claves. Este algoritmo se denomina clustering."
   ]
  },
  {
   "cell_type": "markdown",
   "metadata": {},
   "source": [
    "A continuación, el código donde se realiza el clustering del usuario analizado. El número de clusters será variable hasta encontrar el valor que mejor se ajuste al análisis."
   ]
  },
  {
   "cell_type": "code",
   "execution_count": 73,
   "metadata": {},
   "outputs": [
    {
     "name": "stdout",
     "output_type": "stream",
     "text": [
      "Dimensiones de los datos: (3199, 200)\n",
      "---------------- CLUSTER 4 ----------------\n",
      "\n",
      "-> Este agosto nos unimos para defender lo importante. https://t.co/DSEN6vBnw0\n",
      "-> https://t.co/ODrwwGhjNQ\n",
      "-> Por lo que le pido disculpas si se sintió ofendido, porque estuvo muy lejos mi intención de hacerle ningún tipo de… https://t.co/UGLM0kKEOp\n",
      "-> Acabo de leer el twitt de Luis Novaresio en el que considera que le hice una imputación de cuasi torturador al refe… https://t.co/ormp0Yuf0G\n",
      "-> Axel en una palabra: Gobernador. https://t.co/X1xzgfM1nc\n",
      "-> Es necesario que todos hagamos el esfuerzo y tengamos la responsabilidad de organizarnos para que esto cambie. Esto… https://t.co/cbE04ClJgk\n",
      "-> Humor y esperanza. Me encanta 😍 https://t.co/hNk62NmXni\n",
      "\n",
      "\n",
      "---------------- CLUSTER 1 ----------------\n",
      "\n",
      "-> Tenemos que convocar a todos los argentinos y a todas las argentinas a una unidad nacional para que la gente pueda… https://t.co/CtlzfF7QFo\n",
      "-> “Ministerio de la Sinceridad - Prescindencia de la Nación” \n",
      "\n",
      "Alguien en la red me envía este video, quiero comparti… https://t.co/e1kSJtKd9y\n",
      "-> los que por ahí privilegiamos nuestras discusiones, nuestras peleas, bueno, ya nos dimos cuenta que cuando nos pele… https://t.co/AIpii7zUeh\n",
      "-> Así que con mucha fe y mucha esperanza, pese a las dificultades, estoy convencida de que con los compañeros y las c… https://t.co/NILEYT7ekF\n",
      "-> Tenemos que convocar a todos los argentinos y a las argentinas a una tarea que sabemos que no va a ser fácil, con l… https://t.co/IxoGRpAQXS\n",
      "-> Esta deuda monumental que han contraído, más que un Plan Marshall, más que la deuda que se contrajo durante la dict… https://t.co/qrWMnAiWZD\n",
      "-> Y creo entonces que todos y todas vamos a tener que poner un gran esfuerzo para superar estos intentos tan terrible… https://t.co/Uxcs4ZRkW5\n",
      "\n",
      "\n",
      "---------------- CLUSTER 3 ----------------\n",
      "\n",
      "-> Es tan obsceno el blindaje mediático que tienen Macri y Vidal que, como en otras tristes épocas, para entender lo q… https://t.co/kiKQelMOSh\n",
      "-> La citación de hoy se trata de una denuncia efectuada por el gobierno de Mauricio Macri sobre obras públicas viales… https://t.co/a1qz9D9XVo\n",
      "-> Al presidente Mauricio Macri y su familia, mis condolencias por el fallecimiento de su padre.\n",
      "-> Ayer en Jujuy, un paso más en la brutal persecución que sufre Milagro Sala, con una condena a medida de Macri y Ger… https://t.co/O5621TiZLN\n",
      "-> Digo yo: ¿Dónde se escribirán las sentencias? Todo a pedido y a medida de Macri, Cambiemos, Clarín y sobre todo: el… https://t.co/I4fNzHgF7L\n",
      "-> Por si no te acordás, Irurzun es el de la foto con el principal operador judicial de Macri y Cambiemos: Pepín Rodrí… https://t.co/gE2E0TJC92\n",
      "-> Macri dice que sin Cambiemos en el gobierno esta tormenta hubiera terminado como en el 2001; y un “arrepentido” del… https://t.co/wX4sN7Re8e\n",
      "\n",
      "\n",
      "---------------- CLUSTER 5 ----------------\n",
      "\n",
      "-> La campaña sucia, y muy violenta, por parte del gobierno me tiene muy preocupada.\n",
      "¿Qué fue lo que pasó en estos tre… https://t.co/Qp1ptiNFr0\n",
      "-> La campaña sucia y muy violenta por parte del gobierno me tiene preocupada. Me tiene preocupada porque las campañas… https://t.co/e3ZyFuwmkf\n",
      "-> Argentina merece otro gobierno.\n",
      "\n",
      "Ya es tiempo de TOD☀️S. https://t.co/oinnKCEj6F\n",
      "-> Me contaba en detalle lo que cada uno de ellos había dicho sobre él y nuestro gobierno por la firma del acuerdo. No… https://t.co/KdNA0BEBx9\n",
      "-> Cada vez es más evidente que las medidas económicas del gobierno de Cambiemos, que tanto sufrimiento provocan a los… https://t.co/KLbQrLVYst\n",
      "-> Este ya ni siquiera es un gobierno de ricos para ricos, sino de algunos ricos para ellos mismos y para sus amigos.\n",
      "-> ¿Te parece que es sólo una palabra y que estamos exagerando? Mirá lo qué pasa mientras tanto.\n",
      "\n",
      "El Gobierno habilita… https://t.co/kVmimS9cTT\n",
      "\n",
      "\n",
      "---------------- CLUSTER 2 ----------------\n",
      "\n",
      "-> RT @UniCiudadanaAR: Vivir con la garganta y el estómago estrujados porque no sabemos qué es lo que nos va a pasar... eso no es una buena vi…\n",
      "-> RT @UniCiudadanaAR: Hay esperanza. Hay futuro.\n",
      "#EsConTodos #EsConTodas https://t.co/iwIZ3u6Dz7\n",
      "-> RT @UniCiudadanaAR: .@CFKArgentina: \"Es necesario un contrato social de los argentinos y las argentinas\".\n",
      "\n",
      "#Sinceramente https://t.co/jOCns…\n",
      "-> RT @UniCiudadanaAR: Cristina recibió hoy en el @inst_PATRIAar a un grupo de artistas plásticos argentinos. https://t.co/WFOgMP3Lm9\n",
      "-> RT @UniCiudadanaAR: “Se operó sobre la sociedad para romper los vínculos de solidaridad. Así operó el neoliberalismo.”\n",
      "\n",
      "#CristinaEnClacso #…\n",
      "-> RT @UniCiudadanaAR: Máximo Kirchner estuvo en #ElDestapeRadio \n",
      "\n",
      "Volvé a ver y escuchar la entrevista con @robdnavarro \n",
      "👉🏽 https://t.co/ZJjU…\n",
      "-> RT @UniCiudadanaAR: En un mes el país ya perdió un tercio de los dólares que ingresaron por el acuerdo con el FMI.\n",
      "\n",
      "¿Dónde va la plata de l…\n",
      "\n",
      "\n"
     ]
    }
   ],
   "source": [
    "from collections import defaultdict\n",
    "from sklearn.feature_extraction.text import TfidfVectorizer\n",
    "from sklearn.cluster import KMeans\n",
    "user_name = \"CFKArgentina\"\n",
    "\n",
    "connections_file = \"user_timeline_2019_{}.jsonl\".format(user_name)\n",
    "\n",
    "with open(connections_file) as f:\n",
    "    tweets = []\n",
    "    \n",
    "    for line in f:\n",
    "        tweet = json.loads(line)\n",
    "        tweets.append(tweet['text'])\n",
    "\n",
    "    vectorizer = TfidfVectorizer(max_df = 0.8, min_df = 2, max_features = 200, stop_words = stopword_list,  ngram_range = (1, 3), \n",
    "                                 use_idf = True)\n",
    "    X = vectorizer.fit_transform(tweets)\n",
    "    print(\"Dimensiones de los datos: {}\".format(X.shape))\n",
    "    \n",
    "    km = KMeans(n_clusters = 5)\n",
    "    km.fit(X)\n",
    "    clusters = defaultdict(list)\n",
    "    \n",
    "    for i, label in enumerate(km.labels_):\n",
    "        clusters[label].append(tweets[i])\n",
    "        \n",
    "    for label, descriptions in clusters.items():\n",
    "        print('---------------- CLUSTER {} ----------------'.format(label + 1))\n",
    "        print ('')\n",
    "        for desc in descriptions[:7]:\n",
    "            print('-> ' + desc)\n",
    "        print ('')\n",
    "        print ('')"
   ]
  },
  {
   "cell_type": "markdown",
   "metadata": {},
   "source": [
    "## Geolocalización de tweets "
   ]
  },
  {
   "cell_type": "markdown",
   "metadata": {},
   "source": [
    "Existe una opción en los tweets de activar la ubicación desde la cual se efectuaron. Esta información de localización puede analizarse; a continuación se ve como crear un archivo (de extensión json) en el cual se guardaran las porciones de los tweets necesarias para el análisis, es decir, todo lo referido a la ubicación."
   ]
  },
  {
   "cell_type": "code",
   "execution_count": 13,
   "metadata": {},
   "outputs": [],
   "source": [
    "with open(\"tweets_traffic.jsonl\", 'r', encoding = 'utf-8-sig') as f:\n",
    "    geo_data = {\n",
    "        \"type\": \"FeatureCollection\", \"features\": []\n",
    "    }\n",
    "    \n",
    "    for line in f:\n",
    "        tweet = json.loads(line)\n",
    "        try:\n",
    "            if tweet['geolocation']:\n",
    "                geo_json_feature = {\n",
    "                    \"type\": \"Feature\",\n",
    "                    \"geometry\": {\n",
    "                        \"type\": \"Point\",\n",
    "                        \"coordinates\": tweet['geolocation']\n",
    "                    },\n",
    "                    \"properties\": {\n",
    "                        \"text\": tweet['text'],\n",
    "                        \"created_at\": tweet['creation_time']\n",
    "                    }\n",
    "                }\n",
    "                geo_data['features'].append(geo_json_feature)\n",
    "                \n",
    "        except KeyError:\n",
    "            continue\n",
    "    \n",
    "    with open(\"tweets_map_test.geo.json\", 'w') as fout:\n",
    "        fout.write(json.dumps(geo_data, indent = 4))"
   ]
  },
  {
   "cell_type": "markdown",
   "metadata": {},
   "source": [
    "Este archivo json creado puede, a su vez, ser analizado. Y para este análisis existe la opción de visualizarlo en mapas. A continuación se creará un mapa con la informacion obtenida, en tres pasos."
   ]
  },
  {
   "cell_type": "markdown",
   "metadata": {},
   "source": [
    "Primero, marcamos individualmente cada uno de los tweets en el mapa."
   ]
  },
  {
   "cell_type": "code",
   "execution_count": 14,
   "metadata": {},
   "outputs": [],
   "source": [
    "import folium \n",
    "\n",
    "tweet_map = folium.Map(location = [-37.320480, -59.132904], zoom_start = 4)\n",
    "geodata = json.load(open(\"tweets_map_test.geo.json\", encoding = \"utf-8-sig\"))\n",
    "\n",
    "for tweet in geodata['features']:\n",
    "    marker = folium.Marker([tweet['geometry']['coordinates']['latitude'], tweet['geometry']['coordinates']['longitude']], \n",
    "                           popup = tweet['properties']['text'])\n",
    "    marker.add_to(tweet_map)\n",
    "\n",
    "tweet_map.save(\"mapa_de_tweets.html\")"
   ]
  },
  {
   "cell_type": "markdown",
   "metadata": {},
   "source": [
    "Luego agrupamos estos marcadores en clusters, los cuales incluirán más o menos datos según el zoom con el que se esté visualizando el mapa."
   ]
  },
  {
   "cell_type": "code",
   "execution_count": 15,
   "metadata": {},
   "outputs": [],
   "source": [
    "from folium.plugins import MarkerCluster\n",
    "\n",
    "tweet_map = folium.Map(location = [-37.320480, -59.132904], zoom_start = 4)\n",
    "marker_cluster = MarkerCluster().add_to(tweet_map)\n",
    "\n",
    "for tweet in geodata['features']:\n",
    "    marker = folium.Marker([tweet['geometry']['coordinates']['latitude'], tweet['geometry']['coordinates']['longitude']], \n",
    "                           popup = tweet['properties']['text'])\n",
    "    marker.add_to(marker_cluster)\n",
    "\n",
    "tweet_map.save(\"mapa_de_tweets.html\")"
   ]
  },
  {
   "cell_type": "markdown",
   "metadata": {},
   "source": [
    "Por último, agregamos a cada marcador el texto del tweet; con esta función se podrá ver cual es el tweet relacionado al marcador con sólo clickear sobre él."
   ]
  },
  {
   "cell_type": "code",
   "execution_count": 16,
   "metadata": {},
   "outputs": [],
   "source": [
    "tweet_map = folium.Map(location = [-37.320480, -59.132904], zoom_start = 4)\n",
    "marker_cluster = MarkerCluster().add_to(tweet_map)\n",
    "\n",
    "for tweet in geodata['features']:\n",
    "    marker = folium.Marker([tweet['geometry']['coordinates']['latitude'], tweet['geometry']['coordinates']['longitude']], \n",
    "                           popup = tweet['properties']['text'])\n",
    "    marker.add_to(marker_cluster)\n",
    "    \n",
    "tweet_map.save(\"mapa_de_tweets.html\")"
   ]
  }
 ],
 "metadata": {
  "kernelspec": {
   "display_name": "Python 3",
   "language": "python",
   "name": "python3"
  },
  "language_info": {
   "codemirror_mode": {
    "name": "ipython",
    "version": 3
   },
   "file_extension": ".py",
   "mimetype": "text/x-python",
   "name": "python",
   "nbconvert_exporter": "python",
   "pygments_lexer": "ipython3",
   "version": "3.7.1"
  }
 },
 "nbformat": 4,
 "nbformat_minor": 2
}
